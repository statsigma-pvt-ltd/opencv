{
 "cells": [
  {
   "cell_type": "code",
   "execution_count": 39,
   "metadata": {},
   "outputs": [],
   "source": [
    "#importing neccessary packages\n",
    "import tweepy\n",
    "import re\n",
    "import matplotlib.pyplot as plt\n",
    "%matplotlib inline\n",
    "import pickle\n",
    "import pandas as pd\n",
    "import networkx as nx\n",
    "import community"
   ]
  },
  {
   "cell_type": "code",
   "execution_count": 40,
   "metadata": {},
   "outputs": [],
   "source": [
    "#connecting to twiiter with the twitter api\n",
    "consumer_key = 'As7TCQNuj094syemMYSAxlQOI'\n",
    "consumer_secret = 'S8Uvttz2B2Z0wVVcEwWiBCrrIaw7m3GZULXN5vvBfwapEYqEoP'\n",
    "access_token = '1118074022309183488-X8ZzuAUle3OBXIgxI3oJIIgu3M4ACp'\n",
    "access_token_secret = 'BG7uBmJ4tGQpjx6kVdnKzvHSmMNk6shTI9jLk76u2d75W'\n",
    "auth = tweepy.OAuthHandler(consumer_key, consumer_secret)\n",
    "auth.set_access_token(access_token, access_token_secret)\n",
    "api = tweepy.API(auth, wait_on_rate_limit=True, wait_on_rate_limit_notify=True, compression=True)"
   ]
  },
  {
   "cell_type": "code",
   "execution_count": 45,
   "metadata": {},
   "outputs": [
    {
     "name": "stdout",
     "output_type": "stream",
     "text": [
      "kick\n",
      "akhil74723087\n",
      "akhil74723087\n",
      "[1039123307583266816, 141196592]\n",
      "kick\n",
      "raonageshwar80\n",
      "raonageshwar80\n",
      "[1039123307583266816, 141196592, 1039123307583266816, 141196592]\n",
      "kick\n",
      "Akhil82575471\n",
      "Akhil82575471\n",
      "[1039123307583266816, 141196592, 1039123307583266816, 141196592, 1039123307583266816, 141196592]\n"
     ]
    }
   ],
   "source": [
    "user_node=[]\n",
    "friend_node=[]\n",
    "\n",
    "\n",
    "xyz=['akhil74723087','raonageshwar80','Akhil82575471']\n",
    "global i\n",
    "try:\n",
    "    ids1 = []\n",
    "    def carbike(i):\n",
    "        print('kick')\n",
    "        for page in tweepy.Cursor(api.friends_ids,user_id=1933149966).items(2):\n",
    "            print(xyz[i])\n",
    "            ids1.append(page)\n",
    "        print(ids1)\n",
    "    for i in range(3):        \n",
    "        carbike(i)\n",
    "except tweepy.TweepError as e:\n",
    "#     print(e)\n",
    "    if str(e)=='Not authorized.':\n",
    "        print('akhil')\n",
    "        i=i+1\n",
    "        carbike(i)"
   ]
  },
  {
   "cell_type": "code",
   "execution_count": 46,
   "metadata": {},
   "outputs": [
    {
     "name": "stderr",
     "output_type": "stream",
     "text": [
      "Rate limit reached. Sleeping for: 510\n"
     ]
    },
    {
     "name": "stdout",
     "output_type": "stream",
     "text": [
      "0\n",
      "1\n",
      "2\n",
      "3\n"
     ]
    },
    {
     "name": "stderr",
     "output_type": "stream",
     "text": [
      "Rate limit reached. Sleeping for: 883\n",
      "Rate limit reached. Sleeping for: 881\n"
     ]
    },
    {
     "name": "stdout",
     "output_type": "stream",
     "text": [
      "4\n"
     ]
    },
    {
     "name": "stderr",
     "output_type": "stream",
     "text": [
      "Rate limit reached. Sleeping for: 886\n",
      "Rate limit reached. Sleeping for: 883\n"
     ]
    },
    {
     "name": "stdout",
     "output_type": "stream",
     "text": [
      "[1118074022309183488, 1118074022309183488, 4802390953, 4802390953, 727050288310296576, 727050288310296576, 1118074022309183488, 1118074022309183488, 40602211, 40602211, 362054834, 362054834, 1933149966, 1933149966, 4802390953, 4802390953, 727050288310296576, 727050288310296576, 3286966286, 3286966286, 22039950, 22039950, 431483063, 431483063, 4808371069, 4808371069, 1039123307583266816, 1039123307583266816, 141196592, 141196592, 1118074022309183488, 1118074022309183488, 40602211, 40602211, 362054834, 362054834, 1933149966, 1933149966, 34534137, 34534137, 2737079191, 2737079191, 394254612, 394254612, 69809011, 69809011, 124226706, 124226706, 362054834, 362054834, 1073151516972867584, 1073151516972867584, 75210648, 75210648, 727050288310296576, 727050288310296576, 1933149966, 1933149966, 716503250329993216, 716503250329993216, 4502936240, 4502936240, 4802390953, 4802390953, 727050288310296576, 727050288310296576, 3286966286, 3286966286, 22039950, 22039950, 431483063, 431483063, 4808371069, 4808371069, 1039123307583266816, 1039123307583266816, 141196592, 141196592, 19217011, 19217011, 818268470273970178, 818268470273970178, 754006735468261376, 754006735468261376, 20322986, 20322986, 22039950, 22039950, 96361496, 96361496, 95867198, 132729271, 132729271, 567282877, 567282877, 242491181, 242491181, 431483063, 431483063, 4808371069, 4808371069, 626183302, 626183302, 992186695079645184, 992186695079645184, 4808371069, 4808371069, 152326601, 152326601, 362054834, 362054834, 1933149966, 1933149966, 1039123307583266816, 1039123307583266816, 141196592, 141196592, 146414919, 146414919, 216447259, 216447259, 631044023, 631044023, 257854179, 257854179]\n",
      "[4802390953, 727050288310296576, 1118074022309183488, 40602211, 362054834, 1933149966, 4802390953, 727050288310296576, 3286966286, 22039950, 431483063, 4808371069, 1039123307583266816, 141196592, 1118074022309183488, 40602211, 362054834, 1933149966, 34534137, 2737079191, 394254612, 69809011, 124226706, 362054834, 1073151516972867584, 75210648, 727050288310296576, 1933149966, 716503250329993216, 4502936240, 4802390953, 727050288310296576, 3286966286, 22039950, 431483063, 4808371069, 1039123307583266816, 141196592, 19217011, 818268470273970178, 754006735468261376, 20322986, 22039950, 96361496, 95867198, 132729271, 567282877, 242491181, 431483063, 4808371069, 626183302, 992186695079645184, 4808371069, 152326601, 362054834, 1933149966, 1039123307583266816, 141196592, 146414919, 216447259, 631044023, 257854179, 1118074022309183488, 40602211, 362054834, 1933149966, 34534137, 2737079191, 394254612, 69809011, 124226706, 362054834, 1073151516972867584, 75210648, 727050288310296576, 1933149966, 716503250329993216, 4502936240, 34534137, 814760, 1102049974513065984, 41134000, 418371498, 744260935527735296, 509531549, 1526069534, 394254612, 69809011, 3449547915, 603393964, 247623045, 55641726, 707028438025023488, 28223477, 124226706, 409726281, 272659304, 124226706, 362054834, 1073151516972867584, 75210648, 822517788, 965060835264598016, 901885303673298945, 1009177298782875648, 1073151516972867584, 75210648, 141544731, 75210648, 431483063, 4808371069, 1039123307583266816, 141196592, 727050288310296576, 1933149966, 716503250329993216, 4502936240, 734600071061331969, 1005734784167960576, 2267005610, 117407834, 738402681677451265, 1101419996205535232, 260705412, 200737738]\n"
     ]
    }
   ],
   "source": [
    "user_node=[]\n",
    "friend_node=[]\n",
    "main_person='akhil74723087'\n",
    "user = api.get_user(main_person)\n",
    "main_person_id=user.id\n",
    "no_of_hops=5\n",
    "# no_of_hops=no_of_h\n",
    "global i\n",
    "try:\n",
    "    ids1=[]\n",
    "    for items in tweepy.Cursor(api.friends_ids, screen_name=main_person).items(2):\n",
    "        user_node.append(main_person_id)\n",
    "        friend_node.append(items)\n",
    "        ids1.append(items)\n",
    "    #print(ids1)\n",
    "    try:\n",
    "        ids_old_hops=[]\n",
    "        id_hops=[]\n",
    "        for hops in range(no_of_hops):\n",
    "            if hops==0:\n",
    "                id_hops=ids1\n",
    "            else:\n",
    "                id_hops=ids_old_hops\n",
    "            ids_old_hops=[]\n",
    "            def carbike(i):\n",
    "                for items in tweepy.Cursor(api.friends_ids,user_id=id_hops[i]).items(2):\n",
    "                    user_node.append(id_hops[i])\n",
    "                    friend_node.append(items)\n",
    "                    ids_old_hops.append(items)\n",
    "            #print(id_old_hops)\n",
    "            print(hops)\n",
    "            for i in range(len(id_hops)):\n",
    "                carbike(i)\n",
    "    except tweepy.TweepError as e:\n",
    "            if str(e)=='Not authorized.':\n",
    "                #print('akhil')\n",
    "                i=i+1\n",
    "                carbike(i)\n",
    "                \n",
    "        \n",
    "except tweepy.TweepError as e:\n",
    "    if str(e)=='Not authorized.':\n",
    "        print('the main person is protected')\n",
    "print(user_node)\n",
    "print(friend_node)"
   ]
  },
  {
   "cell_type": "code",
   "execution_count": 47,
   "metadata": {},
   "outputs": [
    {
     "data": {
      "text/plain": [
       "125"
      ]
     },
     "execution_count": 47,
     "metadata": {},
     "output_type": "execute_result"
    }
   ],
   "source": [
    "len(user_node)"
   ]
  },
  {
   "cell_type": "code",
   "execution_count": 48,
   "metadata": {},
   "outputs": [
    {
     "data": {
      "text/plain": [
       "125"
      ]
     },
     "execution_count": 48,
     "metadata": {},
     "output_type": "execute_result"
    }
   ],
   "source": [
    "len(friend_node)"
   ]
  },
  {
   "cell_type": "code",
   "execution_count": 24,
   "metadata": {},
   "outputs": [
    {
     "name": "stdout",
     "output_type": "stream",
     "text": [
      "1118074022309183488\n"
     ]
    }
   ],
   "source": [
    "main_person='akhil74723087'\n",
    "user = api.get_user(main_person)\n",
    "print(user.id)"
   ]
  },
  {
   "cell_type": "code",
   "execution_count": 25,
   "metadata": {},
   "outputs": [
    {
     "name": "stdout",
     "output_type": "stream",
     "text": [
      "akhil74723087\n"
     ]
    }
   ],
   "source": [
    "main_person=1118074022309183488\n",
    "user = api.get_user(main_person)\n",
    "print(user.screen_name)"
   ]
  },
  {
   "cell_type": "code",
   "execution_count": 32,
   "metadata": {},
   "outputs": [
    {
     "name": "stdout",
     "output_type": "stream",
     "text": [
      "0\n",
      "1\n",
      "2\n"
     ]
    }
   ],
   "source": [
    "k=3\n",
    "for ixc in range(k):\n",
    "    print(ixc)"
   ]
  },
  {
   "cell_type": "code",
   "execution_count": null,
   "metadata": {},
   "outputs": [],
   "source": []
  }
 ],
 "metadata": {
  "kernelspec": {
   "display_name": "Python 3",
   "language": "python",
   "name": "python3"
  },
  "language_info": {
   "codemirror_mode": {
    "name": "ipython",
    "version": 3
   },
   "file_extension": ".py",
   "mimetype": "text/x-python",
   "name": "python",
   "nbconvert_exporter": "python",
   "pygments_lexer": "ipython3",
   "version": "3.6.6"
  }
 },
 "nbformat": 4,
 "nbformat_minor": 2
}
